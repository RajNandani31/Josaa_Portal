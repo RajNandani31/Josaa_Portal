{
 "cells": [
  {
   "cell_type": "code",
   "execution_count": 1,
   "metadata": {},
   "outputs": [],
   "source": [
    "import pandas as pd\n",
    "import matplotlib.pyplot as plt\n",
    "import numpy as np"
   ]
  },
  {
   "cell_type": "code",
   "execution_count": 2,
   "metadata": {},
   "outputs": [
    {
     "name": "stderr",
     "output_type": "stream",
     "text": [
      "C:\\Users\\nanda\\AppData\\Local\\Temp\\ipykernel_6056\\3612503681.py:1: DtypeWarning: Columns (5,6) have mixed types. Specify dtype option on import or set low_memory=False.\n",
      "  data= pd.read_csv('data/File.csv')\n"
     ]
    }
   ],
   "source": [
    "data= pd.read_csv('data/File.csv')"
   ]
  },
  {
   "cell_type": "code",
   "execution_count": 3,
   "metadata": {},
   "outputs": [
    {
     "name": "stdout",
     "output_type": "stream",
     "text": [
      "<class 'pandas.core.frame.DataFrame'>\n",
      "RangeIndex: 394291 entries, 0 to 394290\n",
      "Data columns (total 9 columns):\n",
      " #   Column                 Non-Null Count   Dtype   \n",
      "---  ------                 --------------   -----   \n",
      " 0   Institute              394291 non-null  category\n",
      " 1   Academic Program Name  394291 non-null  category\n",
      " 2   Quota                  394291 non-null  category\n",
      " 3   Seat Type              394291 non-null  category\n",
      " 4   Gender                 338513 non-null  category\n",
      " 5   Opening Rank           394291 non-null  int64   \n",
      " 6   Closing Rank           394291 non-null  int64   \n",
      " 7   Year                   394291 non-null  int64   \n",
      " 8   Round                  394291 non-null  int64   \n",
      "dtypes: category(5), int64(4)\n",
      "memory usage: 14.7 MB\n",
      "None\n"
     ]
    }
   ],
   "source": [
    "def data_clean(df):  \n",
    "    def isint(x):\n",
    "        try:\n",
    "            int(x)\n",
    "            return True\n",
    "        except:\n",
    "            return False\n",
    "        \n",
    "    for i in df.index:\n",
    "        if isint(df.loc[i, 'Opening Rank']):\n",
    "            df.loc[i, 'Opening Rank'] = int(df.loc[i, 'Opening Rank'])\n",
    "        else:\n",
    "            df.loc[i, 'Opening Rank'] = 0    \n",
    "        \n",
    "    for i in df.index:\n",
    "        if isint(df.loc[i, 'Closing Rank']):\n",
    "            df.loc[i, 'Closing Rank'] = int(df.loc[i, 'Closing Rank'])\n",
    "        else:\n",
    "            df.loc[i, 'Closing Rank'] = 0\n",
    "    \n",
    "    df['Opening Rank']=df['Opening Rank'].astype('int64')\n",
    "    df['Closing Rank']=df['Closing Rank'].astype('int64')\n",
    "    df['Institute']=df['Institute'].astype('category')\n",
    "    df['Academic Program Name']=df['Academic Program Name'].astype('category')\n",
    "    df['Quota']=df['Quota'].astype('category')\n",
    "    df['Seat Type']=df['Seat Type'].astype('category')\n",
    "    df['Gender']=df['Gender'].astype('category')\n",
    "    print(df.info())\n",
    "\n",
    "data_clean(data)"
   ]
  }
 ],
 "metadata": {
  "kernelspec": {
   "display_name": "Python 3",
   "language": "python",
   "name": "python3"
  },
  "language_info": {
   "codemirror_mode": {
    "name": "ipython",
    "version": 3
   },
   "file_extension": ".py",
   "mimetype": "text/x-python",
   "name": "python",
   "nbconvert_exporter": "python",
   "pygments_lexer": "ipython3",
   "version": "3.12.3"
  }
 },
 "nbformat": 4,
 "nbformat_minor": 2
}
